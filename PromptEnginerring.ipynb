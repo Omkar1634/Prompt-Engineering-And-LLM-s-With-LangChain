{
 "cells": [
  {
   "cell_type": "code",
   "execution_count": 11,
   "metadata": {},
   "outputs": [],
   "source": [
    "import sys\n",
    "import os \n",
    "from constant import openai_key\n",
    "from langchain import PromptTemplate\n",
    "from langchain.llms import OpenAI\n",
    "from langchain.chains import LLMChain\n",
    "os.environ[\"OPENAI_API_KEY\"]=openai_key\n",
    "\n",
    "from sklearn.metrics.pairwise import cosine_similarity\n"
   ]
  },
  {
   "cell_type": "code",
   "execution_count": 3,
   "metadata": {},
   "outputs": [
    {
     "data": {
      "text/plain": [
       "' I want you act as aacting financial advisor for people.\\nIn an easy way, explain the basics of income tax.'"
      ]
     },
     "execution_count": 3,
     "metadata": {},
     "output_type": "execute_result"
    }
   ],
   "source": [
    "template =''' I want you act as aacting financial advisor for people.\n",
    "In an easy way, explain the basics of {financial_concept}.'''\n",
    "\n",
    "prompt = PromptTemplate(\n",
    "    input_variables=['financial_concept'],\n",
    "    template=template)\n",
    "\n",
    "prompt.format(financial_concept='income tax')"
   ]
  },
  {
   "cell_type": "code",
   "execution_count": 4,
   "metadata": {},
   "outputs": [
    {
     "data": {
      "text/plain": [
       "\"\\n\\nIncome tax is a type of tax that is imposed on the income earned by individuals and businesses. It is a way for the government to generate revenue to fund public services and programs.\\n\\nThe amount of income tax you pay is based on your taxable income, which is the total amount of money you earn from various sources such as your job, investments, and rental properties. This income is then divided into different tax brackets, with each bracket having a different tax rate.\\n\\nFor example, let's say you earn $50,000 per year. The first $10,000 may be taxed at a rate of 10%, the next $20,000 at 15%, and the remaining $20,000 at 20%. This means that your total tax liability would be $10,000 + $3,000 + $4,000 = $17,000.\\n\\nHowever, not all of your income is subject to income tax. There are certain deductions and credits that can reduce your taxable income and ultimately lower your tax bill. These can include things like charitable donations, mortgage interest, and education expenses.\\n\\nIt's important to note that income tax is a progressive tax, meaning that the more you earn, the higher your tax rate will be. This is to ensure that those who\""
      ]
     },
     "execution_count": 4,
     "metadata": {},
     "output_type": "execute_result"
    }
   ],
   "source": [
    "llm = OpenAI(model='gpt-3.5-turbo-instruct', temperature=0)\n",
    "chain1 = LLMChain(llm=llm,prompt=prompt)\n",
    "\n",
    "chain1.run(\"Income Tax\")"
   ]
  },
  {
   "cell_type": "code",
   "execution_count": 5,
   "metadata": {},
   "outputs": [
    {
     "data": {
      "text/plain": [
       "\"\\n\\nAssets are anything that you own that has value. This can include things like money, property, investments, and possessions such as cars or jewelry. Assets can also include intangible things like intellectual property or patents. Essentially, assets are anything that you can use or sell to generate income or increase your wealth. It's important to keep track of your assets and their value, as they can play a significant role in your overall financial health.\""
      ]
     },
     "execution_count": 5,
     "metadata": {},
     "output_type": "execute_result"
    }
   ],
   "source": [
    "chain1.run(\"What are the assets\")"
   ]
  },
  {
   "cell_type": "code",
   "execution_count": 6,
   "metadata": {},
   "outputs": [
    {
     "data": {
      "text/plain": [
       "\"\\n\\nChoosing which shares to invest in can be a daunting task, but there are a few key factors to consider when making this decision. Here are some basics to keep in mind:\\n\\n1. Research the company: Before investing in any shares, it is important to research the company you are interested in. Look at their financial statements, management team, and overall business model. This will give you a better understanding of the company's performance and potential for growth.\\n\\n2. Consider the industry: It is also important to consider the industry the company operates in. Is it a growing industry with potential for future growth? Or is it a declining industry? This can have a significant impact on the company's performance and ultimately, the value of its shares.\\n\\n3. Look at the company's track record: Take a look at the company's past performance. Have they consistently generated profits and increased their share price over time? This can give you an idea of the company's stability and potential for future growth.\\n\\n4. Evaluate the company's competition: It is important to consider the company's competition and how they are performing in the market. Are there any major competitors that could potentially impact the company's success? This can help you assess the company's competitive advantage and potential for growth.\\n\\n5. Consider\""
      ]
     },
     "execution_count": 6,
     "metadata": {},
     "output_type": "execute_result"
    }
   ],
   "source": [
    "chain1.run(\"How to choose whether which shares are good ?\")"
   ]
  },
  {
   "cell_type": "code",
   "execution_count": 7,
   "metadata": {},
   "outputs": [
    {
     "data": {
      "text/plain": [
       "' I want you act as a professor.Your task is to expalin the concept on Machine Learning.'"
      ]
     },
     "execution_count": 7,
     "metadata": {},
     "output_type": "execute_result"
    }
   ],
   "source": [
    "template_1 =''' I want you act as a professor.Your task is to expalin the concept on {concept}.'''\n",
    "prompt = PromptTemplate(\n",
    "    input_variables=['concept'],\n",
    "    template=template_1)\n",
    "\n",
    "prompt.format(concept='Machine Learning')"
   ]
  },
  {
   "cell_type": "code",
   "execution_count": 9,
   "metadata": {},
   "outputs": [
    {
     "name": "stdout",
     "output_type": "stream",
     "text": [
      "\n",
      "\n",
      "Machine learning is a type of artificial intelligence that allows computers to learn and improve from experience without being explicitly programmed. It involves creating algorithms and models that can analyze and interpret large amounts of data to make predictions or decisions.\n",
      "\n",
      "There are three main types of machine learning: supervised learning, unsupervised learning, and reinforcement learning. \n",
      "\n",
      "Supervised learning involves training a model on a labeled dataset, where the desired outcome is known. The model then uses this information to make predictions on new, unlabeled data. This type of learning is commonly used for tasks such as classification and regression.\n",
      "\n",
      "Unsupervised learning, on the other hand, involves training a model on an unlabeled dataset and allowing it to find patterns and relationships on its own. This type of learning is useful for tasks such as clustering and anomaly detection.\n",
      "\n",
      "Reinforcement learning involves training a model to make decisions based on trial and error. The model receives feedback in the form of rewards or punishments, and uses this information to improve its decision-making abilities.\n",
      "\n",
      "Overall, the goal of machine learning is to create models that can accurately and efficiently analyze data and make decisions or predictions. It has a wide range of applications, from self-driving cars to personalized recommendations on streaming services.\n"
     ]
    }
   ],
   "source": [
    "data_1 = chain1.run(\"machine learning\")\n",
    "print(data_1)"
   ]
  },
  {
   "cell_type": "code",
   "execution_count": 10,
   "metadata": {},
   "outputs": [],
   "source": [
    "data_2 = chain1.run(\"deep learning\")\n",
    "data_3 = chain1.run(\"HTML\")"
   ]
  },
  {
   "cell_type": "code",
   "execution_count": 13,
   "metadata": {},
   "outputs": [
    {
     "name": "stdout",
     "output_type": "stream",
     "text": [
      "\n",
      "\n",
      "Deep learning is a type of artificial intelligence that involves training a computer to recognize patterns and make decisions based on large amounts of data. It is inspired by the way the human brain processes information and learns from experience.\n",
      "\n",
      "The basic concept of deep learning is to use a large network of interconnected nodes, called artificial neurons, to process and analyze data. These neurons are organized into layers, with each layer performing a specific task. The first layer receives raw data, such as images or text, and passes it on to the next layer. Each subsequent layer extracts more complex features from the data until the final layer makes a decision or prediction.\n",
      "\n",
      "The key to deep learning is the use of algorithms, called neural networks, to train the artificial neurons. This involves feeding the network with a large amount of data and adjusting the connections between the neurons to improve the accuracy of the predictions. The more data the network is trained on, the better it becomes at recognizing patterns and making accurate decisions.\n",
      "\n",
      "Deep learning has many applications, including image and speech recognition, natural language processing, and even self-driving cars. It is a powerful tool for solving complex problems and is constantly evolving and improving as more data becomes available.\n"
     ]
    }
   ],
   "source": [
    "print(data_2)"
   ]
  },
  {
   "cell_type": "code",
   "execution_count": 14,
   "metadata": {},
   "outputs": [
    {
     "name": "stdout",
     "output_type": "stream",
     "text": [
      "\n",
      "\n",
      "HTML (HyperText Markup Language) is the standard language used to create web pages. It is the foundation of all websites and is used to structure and organize the content on a webpage. HTML uses a series of tags to define the different elements of a webpage, such as headings, paragraphs, images, and links.\n",
      "\n",
      "To create a webpage using HTML, you will need to use a text editor, such as Notepad or Sublime, to write the code. Each HTML document starts with a <html> tag and ends with a </html> tag. Within the <html> tags, there are two main sections: the <head> and the <body>.\n",
      "\n",
      "The <head> section contains information about the webpage, such as the title, keywords, and description. This information is not visible on the webpage, but it is important for search engines to understand what the webpage is about.\n",
      "\n",
      "The <body> section is where the visible content of the webpage is placed. This is where you will use tags to structure and organize your content. For example, the <h1> tag is used for the main heading of the webpage, while the <p> tag is used for paragraphs of text.\n",
      "\n",
      "HTML also allows you to add images, videos, and links to your webpage\n"
     ]
    }
   ],
   "source": [
    "print(data_3)"
   ]
  },
  {
   "cell_type": "code",
   "execution_count": null,
   "metadata": {},
   "outputs": [],
   "source": []
  }
 ],
 "metadata": {
  "kernelspec": {
   "display_name": "pytorch",
   "language": "python",
   "name": "python3"
  },
  "language_info": {
   "codemirror_mode": {
    "name": "ipython",
    "version": 3
   },
   "file_extension": ".py",
   "mimetype": "text/x-python",
   "name": "python",
   "nbconvert_exporter": "python",
   "pygments_lexer": "ipython3",
   "version": "3.11.5"
  }
 },
 "nbformat": 4,
 "nbformat_minor": 2
}
